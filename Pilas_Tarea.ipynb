{
  "nbformat": 4,
  "nbformat_minor": 0,
  "metadata": {
    "colab": {
      "name": "Pilas_Tarea.ipynb",
      "provenance": [],
      "collapsed_sections": [],
      "authorship_tag": "ABX9TyM2uTfF1TjHCMsYKwpuQwsH",
      "include_colab_link": true
    },
    "kernelspec": {
      "name": "python3",
      "display_name": "Python 3"
    },
    "language_info": {
      "name": "python"
    }
  },
  "cells": [
    {
      "cell_type": "markdown",
      "metadata": {
        "id": "view-in-github",
        "colab_type": "text"
      },
      "source": [
        "<a href=\"https://colab.research.google.com/github/XimenaEstudilloG/PIlas/blob/main/Pilas_Tarea.ipynb\" target=\"_parent\"><img src=\"https://colab.research.google.com/assets/colab-badge.svg\" alt=\"Open In Colab\"/></a>"
      ]
    },
    {
      "cell_type": "code",
      "metadata": {
        "id": "SsD3O6B2M8_G"
      },
      "source": [
        "class StackADT:\n",
        "    def __init__( self ):\n",
        "        self.__data = list()\n",
        "\n",
        "    #regresa true si la pila esta vacía\n",
        "    def is_empty( self ):\n",
        "        return len( self.__data ) == 0\n",
        "\n",
        "    #longitud\n",
        "    def get_length( self ):\n",
        "        return len( self.__data )\n",
        "\n",
        "    def pop( self ):\n",
        "        if self.is_empty():\n",
        "            print(\"Pila vacía\")\n",
        "        else:\n",
        "            return self.__data[ -1 ]\n",
        "\n",
        "    def peek( self ):\n",
        "        if self.is_empty():\n",
        "            print(\"Pila vacía\")\n",
        "        else:\n",
        "            return self.__data[ -1 ]\n",
        "            \n",
        "    def push( self , value ):\n",
        "        self.__data.append( value )\n",
        "\n",
        "    def to_string( self ):\n",
        "        for item in self.__data[::-1]:\n",
        "            print(f\" | { item } | \")"
      ],
      "execution_count": 2,
      "outputs": []
    },
    {
      "cell_type": "code",
      "metadata": {
        "id": "4xbYyAVVQx0l"
      },
      "source": [
        "class Balanceo:\n",
        "    def __init__ ( self , ruta_archivo ):\n",
        "        self.read_data( ruta_archivo )\n",
        "    \n",
        "    def read_data( self , entrada ):\n",
        "        self.entrada = open( archivo , 'rt')\n",
        "        self.codigo = self.entrada.read()\n",
        "\n",
        "    def verificacion( self ):\n",
        "        \n",
        "        self.pilaControl = StackADT()\n",
        "        self.pilaControl.push(\"#\") #caracter de pila vacia\n",
        "        self.pilaControl2 = StackADT()\n",
        "        self.pilaControl2.push(\"#\") #caracter de pila vacia\n",
        "\n",
        "        for letra in self.codigo:\n",
        "            #print(f\"---> { letra } <---\")\n",
        "            if self.pilaControl.get_length() != 0:\n",
        "\n",
        "                if letra == '{':          #Regla 1\n",
        "                    self.pilaControl.push('{')\n",
        "                elif letra == '}':        #Regla 2\n",
        "                    self.pilaControl.pop()\n",
        "                else:\n",
        "                    pass\n",
        "            else:\n",
        "                break\n",
        " \n",
        "        for letra in self.codigo:\n",
        "          if self.pilaControl2.get_length() != 0:\n",
        "\n",
        "            if letra =='(':             #Regla 1 (Con Parentesis)\n",
        "              self.pilaControl2.push(\"(\")\n",
        "            elif letra == ')':          #Regla 2 (Con Parentesis)\n",
        "              self.pilaControl2.pop()\n",
        "            else:\n",
        "              pass\n",
        "          else:\n",
        "            break\n",
        "\n",
        "        if self.pilaControl.peek() == '#':\n",
        "            print(\"\\nEstá correctamente balanceado.\")\n",
        "        else:\n",
        "            print(\"\\nEl código no esta balanceado en llaves { y } \")\n",
        "\n",
        "        if self.pilaControl2.peek() == '#':\n",
        "            print(\"\\nEstá correctamente balanceado.\")  \n",
        "        else:  \n",
        "            print(\"\\nEl código no esta balanceado en paréntesis ( y ) \")\n"
      ],
      "execution_count": 17,
      "outputs": []
    },
    {
      "cell_type": "markdown",
      "metadata": {
        "id": "3vC8covpy-Dn"
      },
      "source": [
        "#Aplicacion de plias, balanceo de llaves en programación."
      ]
    },
    {
      "cell_type": "code",
      "metadata": {
        "colab": {
          "base_uri": "https://localhost:8080/"
        },
        "id": "C2LfpqeLzRp-",
        "outputId": "5a0b36c9-97b1-4618-84b3-74355b0308e7"
      },
      "source": [
        "!cat prog.txt"
      ],
      "execution_count": 4,
      "outputs": [
        {
          "output_type": "stream",
          "name": "stdout",
          "text": [
            "cat: prog.txt: No such file or directory\n"
          ]
        }
      ]
    },
    {
      "cell_type": "code",
      "metadata": {
        "colab": {
          "base_uri": "https://localhost:8080/"
        },
        "id": "Th1yd3fkz2UV",
        "outputId": "d176f4cf-074f-4bc3-ed00-7d0c358630c9"
      },
      "source": [
        "archivo = input(\"Escribe el nombre del archivo que desees vefificar si esta balanceado: \")\n",
        "ejemplo = Balanceo( archivo )\n",
        "ejemplo.verificacion()"
      ],
      "execution_count": 18,
      "outputs": [
        {
          "output_type": "stream",
          "name": "stdout",
          "text": [
            "Escribe el nombre del archivo que desees vefificar si esta balanceado: ejemplo.txt\n",
            "\n",
            "El código no esta balanceado en llaves { y } \n",
            "\n",
            "El código no esta balanceado en paréntesis ( y ) \n"
          ]
        }
      ]
    },
    {
      "cell_type": "markdown",
      "metadata": {
        "id": "303nJRtK7JR3"
      },
      "source": [
        "# Aplicacion de pilas\n",
        "## Estrategia de diseño de algoritmos BACKTRACKING"
      ]
    },
    {
      "cell_type": "markdown",
      "metadata": {
        "id": "1p1SQXBDhaoU"
      },
      "source": [
        "##JAVA"
      ]
    },
    {
      "cell_type": "code",
      "metadata": {
        "id": "Zf4TWejmhcD1"
      },
      "source": [
        "class Main {\n",
        "\n",
        "  public static void main(String[] args) {\n",
        "    \n",
        "    System.out.println(\"Enter two numbers\");\n",
        "    int first = 10;\n",
        "    int second = 20;\n",
        "    \n",
        "    System.out.println(first + \" \" + second);\n",
        "\n",
        "    // add two numbers\n",
        "    int sum = first + second;\n",
        "    System.out.println(\"The sum is: \" + sum);\n",
        "  }\n",
        "}"
      ],
      "execution_count": null,
      "outputs": []
    },
    {
      "cell_type": "code",
      "metadata": {
        "id": "Bf7PhrUChYkp"
      },
      "source": [
        ""
      ],
      "execution_count": null,
      "outputs": []
    }
  ]
}