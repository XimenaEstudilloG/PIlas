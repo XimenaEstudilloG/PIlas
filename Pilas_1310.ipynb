{
  "nbformat": 4,
  "nbformat_minor": 0,
  "metadata": {
    "colab": {
      "name": "Pilas_1310.ipynb",
      "provenance": [],
      "collapsed_sections": []
    },
    "kernelspec": {
      "name": "python3",
      "display_name": "Python 3"
    },
    "language_info": {
      "name": "python"
    }
  },
  "cells": [
    {
      "cell_type": "code",
      "metadata": {
        "id": "SsD3O6B2M8_G"
      },
      "source": [
        "class StackADT:\n",
        "    def __init__( self ):\n",
        "        self.__data = list()\n",
        "\n",
        "    #regresa true si la pila esta vacía\n",
        "    def is_empty( self ):\n",
        "        return len( self.__data ) == 0\n",
        "\n",
        "    #longitud\n",
        "    def get_length( self ):\n",
        "        return len( self.__data )\n",
        "\n",
        "    def pop( self ):\n",
        "        if self.is_empty():\n",
        "            print(\"Pila vacía, nada que sacar\")\n",
        "        else:\n",
        "            return self.__data[ -1 ]\n",
        "\n",
        "    def peek( self ):\n",
        "        if self.is_empty():\n",
        "            print(\"Pila vacía, nada que sacar\")\n",
        "        else:\n",
        "            return self.__data[ -1 ]\n",
        "            \n",
        "    def push( self , value ):\n",
        "        self.__data.append( value )\n",
        "\n",
        "    def to_string( self ):\n",
        "        for item in self.__data[::-1]:\n",
        "            print(f\" | { item } | \")"
      ],
      "execution_count": 4,
      "outputs": []
    },
    {
      "cell_type": "code",
      "metadata": {
        "colab": {
          "base_uri": "https://localhost:8080/"
        },
        "id": "4xbYyAVVQx0l",
        "outputId": "d5f59a57-9950-4d96-d146-f8f693262ea1"
      },
      "source": [
        "pila = StackADT()\n",
        "print(\"¿Esta vacía? =\" , pila.is_empty() )\n",
        "print(\"# Elementos:\" , pila.get_length() )\n",
        "pila.push(10)\n",
        "print(\"Esta vacia? =\" , pila.is_empty() )\n",
        "print(\"# Elementos:\" , pila.get_length() )\n",
        "pila.push(20)\n",
        "pila.push(30)\n",
        "pila.push(40)\n",
        "pila.to_string()\n",
        "print( pila.pop() ) #40\n",
        "print( pila.peek() ) #30\n",
        "pila.to_string()"
      ],
      "execution_count": 5,
      "outputs": [
        {
          "output_type": "stream",
          "name": "stdout",
          "text": [
            "¿Esta vacía? = True\n",
            "# Elementos: 0\n",
            "Esta vacia? = False\n",
            "# Elementos: 1\n",
            " | 40 | \n",
            " | 30 | \n",
            " | 20 | \n",
            " | 10 | \n",
            "40\n",
            "40\n",
            " | 40 | \n",
            " | 30 | \n",
            " | 20 | \n",
            " | 10 | \n"
          ]
        }
      ]
    },
    {
      "cell_type": "markdown",
      "metadata": {
        "id": "3vC8covpy-Dn"
      },
      "source": [
        "#Aplicacion de plias, balanceo de llaves en programación."
      ]
    },
    {
      "cell_type": "code",
      "metadata": {
        "colab": {
          "base_uri": "https://localhost:8080/"
        },
        "id": "C2LfpqeLzRp-",
        "outputId": "6780d1ed-03e2-4a78-c59b-4b019b0639e4"
      },
      "source": [
        "!cat prog.txt"
      ],
      "execution_count": 6,
      "outputs": [
        {
          "output_type": "stream",
          "name": "stdout",
          "text": [
            "#include <stdio.h>\r\n",
            "int main()\r\n",
            "{\r\n",
            "    int num, count, sum = 0;\r\n",
            "\r\n",
            "    printf(\"Enter a positive integer: \");\r\n",
            "    scanf(\"%d\", &num);\r\n",
            "\r\n",
            "    // for loop terminates when num is less than count\r\n",
            "    for(count = 1; count <= num; ++count)\r\n",
            "    {\r\n",
            "        sum += count;\r\n",
            "    }\r\n",
            "\r\n",
            "    printf(\"Sum = %d\", sum);\r\n",
            "\r\n",
            "    return 0;\r\n",
            "}"
          ]
        }
      ]
    },
    {
      "cell_type": "code",
      "metadata": {
        "colab": {
          "base_uri": "https://localhost:8080/"
        },
        "id": "Th1yd3fkz2UV",
        "outputId": "fdcab8a6-ff7c-4c68-972d-60bdbf3bb522"
      },
      "source": [
        "entrada = open('prog.txt' , 'rt')\n",
        "codigo = entrada.read()\n",
        "print( codigo )\n",
        "pilaControl = StackADT()\n",
        "pilaControl.push(\"#\") # caracter de pila vacía\n",
        "\n"
      ],
      "execution_count": 11,
      "outputs": [
        {
          "output_type": "stream",
          "name": "stdout",
          "text": [
            "#include <stdio.h>\n",
            "int main()\n",
            "{\n",
            "    int num, count, sum = 0;\n",
            "\n",
            "    printf(\"Enter a positive integer: \");\n",
            "    scanf(\"%d\", &num);\n",
            "\n",
            "    // for loop terminates when num is less than count\n",
            "    for(count = 1; count <= num; ++count)\n",
            "    {\n",
            "        sum += count;\n",
            "    }\n",
            "\n",
            "    printf(\"Sum = %d\", sum);\n",
            "\n",
            "    return 0;\n",
            "}\n"
          ]
        }
      ]
    },
    {
      "cell_type": "code",
      "metadata": {
        "colab": {
          "base_uri": "https://localhost:8080/"
        },
        "id": "pyajVqcT37Jl",
        "outputId": "5b1acb75-daba-49a3-848b-5ce4035b5260"
      },
      "source": [
        "for letra in codigo:\n",
        "    #print(f\"--> { letra } <--\")\n",
        "    if letra == '{': #regla 1\n",
        "        pilaControl.push(\"{\")\n",
        "    elif letra == '}':  #regla 2\n",
        "        basura = pilaControl.pop()\n",
        "    else:\n",
        "        pass\n",
        "\n",
        "#NOTA: Este código aún no contempla desbalanceo de mas llaves de cierre\n",
        "if pilaControl.peek() == '#':\n",
        "    print(\"El cpodigo proporcionado eta correctamente balanceado\")\n",
        "else:\n",
        "    print(\"El código no esta balanceado en llaves { y } \") "
      ],
      "execution_count": 10,
      "outputs": [
        {
          "output_type": "stream",
          "name": "stdout",
          "text": [
            "El código no esta balanceado en llaves { y } \n"
          ]
        }
      ]
    },
    {
      "cell_type": "markdown",
      "metadata": {
        "id": "303nJRtK7JR3"
      },
      "source": [
        "# Aplicacion de pilas\n",
        "## Estrategia de diseño de algoritmos BACKTRACKING"
      ]
    },
    {
      "cell_type": "code",
      "metadata": {
        "id": "LyQip9vm7Rvy"
      },
      "source": [
        ""
      ],
      "execution_count": null,
      "outputs": []
    }
  ]
}